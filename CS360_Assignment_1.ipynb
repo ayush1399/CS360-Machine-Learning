{
  "nbformat": 4,
  "nbformat_minor": 0,
  "metadata": {
    "colab": {
      "name": "CS360-Assignment-1.ipynb",
      "provenance": [],
      "authorship_tag": "ABX9TyMzMJHeHGJ5AVIlTF8PEtVj"
    },
    "kernelspec": {
      "name": "python3",
      "display_name": "Python 3"
    }
  },
  "cells": [
    {
      "cell_type": "markdown",
      "metadata": {
        "id": "oXaKXBRLDDdf",
        "colab_type": "text"
      },
      "source": [
        "# ML Lab (CS360)\n",
        "## Assignment 1"
      ]
    },
    {
      "cell_type": "markdown",
      "metadata": {
        "id": "tmmiwji7BVm5",
        "colab_type": "text"
      },
      "source": [
        "### PART 1: NumPy Basic"
      ]
    },
    {
      "cell_type": "markdown",
      "metadata": {
        "id": "tunV9m0hBV4C",
        "colab_type": "text"
      },
      "source": [
        "1. Write a NumPy program to create an array of 10 zeros, 10 ones, 10 fives"
      ]
    },
    {
      "cell_type": "code",
      "metadata": {
        "id": "cqvaAsGvDrkd",
        "colab_type": "code",
        "colab": {
          "base_uri": "https://localhost:8080/",
          "height": 67
        },
        "outputId": "c028b3ef-cd33-4122-e562-2c7e83dacc77"
      },
      "source": [
        "import numpy as np\n",
        "\n",
        "zeros = np.zeros((10))\n",
        "print(zeros)\n",
        "\n",
        "ones = np.ones((10))\n",
        "print(ones)\n",
        "\n",
        "fives = np.ones((10)) * 5\n",
        "print(fives)"
      ],
      "execution_count": null,
      "outputs": [
        {
          "output_type": "stream",
          "text": [
            "[0. 0. 0. 0. 0. 0. 0. 0. 0. 0.]\n",
            "[1. 1. 1. 1. 1. 1. 1. 1. 1. 1.]\n",
            "[5. 5. 5. 5. 5. 5. 5. 5. 5. 5.]\n"
          ],
          "name": "stdout"
        }
      ]
    },
    {
      "cell_type": "markdown",
      "metadata": {
        "id": "rdXvDOVbBWB9",
        "colab_type": "text"
      },
      "source": [
        "2. Write a numpy program to create an array of all the even integers from 10 to 50"
      ]
    },
    {
      "cell_type": "code",
      "metadata": {
        "id": "DcqpMSTdDrve",
        "colab_type": "code",
        "colab": {
          "base_uri": "https://localhost:8080/",
          "height": 34
        },
        "outputId": "ec66592c-8d70-4a0a-e82f-46964a4332f0"
      },
      "source": [
        "array = np.arange(10, 50, 2)\n",
        "print(array)"
      ],
      "execution_count": null,
      "outputs": [
        {
          "output_type": "stream",
          "text": [
            "[10 12 14 16 18 20 22 24 26 28 30 32 34 36 38 40 42 44 46 48]\n"
          ],
          "name": "stdout"
        }
      ]
    },
    {
      "cell_type": "markdown",
      "metadata": {
        "id": "HlMA9epjBWJs",
        "colab_type": "text"
      },
      "source": [
        "3. Write a NumPy program to generate a random matrix of size 3 X 3 (in which the values are in the range between 0 and 1)"
      ]
    },
    {
      "cell_type": "code",
      "metadata": {
        "id": "azodNVSTDs1q",
        "colab_type": "code",
        "colab": {
          "base_uri": "https://localhost:8080/",
          "height": 67
        },
        "outputId": "30f1f1ee-29c9-46fe-c9f6-913a2fb3e7de"
      },
      "source": [
        "random_matrix = np.random.random((3, 3))\n",
        "print(random_matrix)"
      ],
      "execution_count": null,
      "outputs": [
        {
          "output_type": "stream",
          "text": [
            "[[0.42810075 0.42757548 0.97486035]\n",
            " [0.6088957  0.423715   0.94995746]\n",
            " [0.16839255 0.31420931 0.22196605]]\n"
          ],
          "name": "stdout"
        }
      ]
    },
    {
      "cell_type": "markdown",
      "metadata": {
        "id": "bNX9LIkoBWQr",
        "colab_type": "text"
      },
      "source": [
        "4. Write a NumPy program to save the matrix (generated in question 3) to a text file and load it."
      ]
    },
    {
      "cell_type": "code",
      "metadata": {
        "id": "d8CIxzGGDuIR",
        "colab_type": "code",
        "colab": {
          "base_uri": "https://localhost:8080/",
          "height": 67
        },
        "outputId": "25505dd6-cc6a-49bf-efce-fc1ad8751f2d"
      },
      "source": [
        "np.savetxt(\"foobar.csv\", random_matrix, delimiter=\",\")\n",
        "random_matrix = np.loadtxt(\"foobar.csv\", delimiter=\",\")\n",
        "print(random_matrix)"
      ],
      "execution_count": null,
      "outputs": [
        {
          "output_type": "stream",
          "text": [
            "[[0.42810075 0.42757548 0.97486035]\n",
            " [0.6088957  0.423715   0.94995746]\n",
            " [0.16839255 0.31420931 0.22196605]]\n"
          ],
          "name": "stdout"
        }
      ]
    },
    {
      "cell_type": "markdown",
      "metadata": {
        "id": "y927jd9kBWU9",
        "colab_type": "text"
      },
      "source": [
        "### PART 2: Pandas Excel"
      ]
    },
    {
      "cell_type": "markdown",
      "metadata": {
        "id": "oNGRY4l2BWaJ",
        "colab_type": "text"
      },
      "source": [
        "1. Write a python program to read an image and save the image as a matrix to a .csv file using pandas"
      ]
    },
    {
      "cell_type": "code",
      "metadata": {
        "id": "DmlEH3_RDwif",
        "colab_type": "code",
        "colab": {
          "base_uri": "https://localhost:8080/",
          "height": 222
        },
        "outputId": "b4db2f1d-b941-45ef-cec7-65ff02d70d18"
      },
      "source": [
        "import pandas as pd\n",
        "from PIL import Image, ImageOps\n",
        "\n",
        "!wget -P ./ https://4.bp.blogspot.com/-OQZGt_5WqDo/Wa_Dfa4U15I/AAAAAAAAAUI/veRmAmUUKFA19dVw6XCOV2YLO6n-y_omwCLcBGAs/s400/out.jpg\n",
        "\n",
        "img = np.array(ImageOps.grayscale(Image.open('out.jpg')))\n",
        "\n",
        "df = pd.DataFrame(data = img)\n",
        "df.to_csv(\"img_as_csv\")"
      ],
      "execution_count": null,
      "outputs": [
        {
          "output_type": "stream",
          "text": [
            "--2020-08-23 07:09:21--  https://4.bp.blogspot.com/-OQZGt_5WqDo/Wa_Dfa4U15I/AAAAAAAAAUI/veRmAmUUKFA19dVw6XCOV2YLO6n-y_omwCLcBGAs/s400/out.jpg\n",
            "Resolving 4.bp.blogspot.com (4.bp.blogspot.com)... 74.125.201.132, 2607:f8b0:4001:c01::84\n",
            "Connecting to 4.bp.blogspot.com (4.bp.blogspot.com)|74.125.201.132|:443... connected.\n",
            "HTTP request sent, awaiting response... 200 OK\n",
            "Length: 44901 (44K) [image/jpeg]\n",
            "Saving to: ‘./out.jpg’\n",
            "\n",
            "\rout.jpg               0%[                    ]       0  --.-KB/s               \rout.jpg             100%[===================>]  43.85K  --.-KB/s    in 0s      \n",
            "\n",
            "2020-08-23 07:09:21 (118 MB/s) - ‘./out.jpg’ saved [44901/44901]\n",
            "\n"
          ],
          "name": "stdout"
        }
      ]
    },
    {
      "cell_type": "markdown",
      "metadata": {
        "id": "89q83FxWBWYv",
        "colab_type": "text"
      },
      "source": [
        "2. Write a program to import excel data from the .csv file (generated in question 1) by excluding the last row and last column"
      ]
    },
    {
      "cell_type": "code",
      "metadata": {
        "id": "riGhO9OaDwx-",
        "colab_type": "code",
        "colab": {}
      },
      "source": [
        "read_df = pd.read_csv('img_as_csv', skipfooter=1, engine='python', usecols=range(399))"
      ],
      "execution_count": null,
      "outputs": []
    },
    {
      "cell_type": "markdown",
      "metadata": {
        "id": "Jj7IlzvWCuDx",
        "colab_type": "text"
      },
      "source": [
        "3. Write a Pandas program to create the today's date"
      ]
    },
    {
      "cell_type": "code",
      "metadata": {
        "id": "wxXvwkSdDyJV",
        "colab_type": "code",
        "colab": {
          "base_uri": "https://localhost:8080/",
          "height": 34
        },
        "outputId": "80f0345e-3491-4180-8a15-d7c72dbbba67"
      },
      "source": [
        "from datetime import date\n",
        "\n",
        "date_today = pd.to_datetime(str(date.today()), format='%Y-%m-%d')\n",
        "print(\"Today's date: \" + str(date_today))"
      ],
      "execution_count": null,
      "outputs": [
        {
          "output_type": "stream",
          "text": [
            "Today's date: 2020-08-23 00:00:00\n"
          ],
          "name": "stdout"
        }
      ]
    },
    {
      "cell_type": "markdown",
      "metadata": {
        "id": "clgXmWaWCupE",
        "colab_type": "text"
      },
      "source": [
        "### Part 3"
      ]
    },
    {
      "cell_type": "markdown",
      "metadata": {
        "id": "noUyk3MfCuyP",
        "colab_type": "text"
      },
      "source": [
        "Create a mini calculator to know the age of a person after putting the range (i.e. data of birth and current date)\n",
        "\n"
      ]
    },
    {
      "cell_type": "code",
      "metadata": {
        "id": "LbjJAdC3D0Hl",
        "colab_type": "code",
        "colab": {
          "base_uri": "https://localhost:8080/",
          "height": 134
        },
        "outputId": "88165e87-433e-4d4c-8e66-4baa6a392656"
      },
      "source": [
        "import datetime\n",
        "\n",
        "today_year = int(input(\"Enter the year today: \"))\n",
        "today_month = int(input(\"Enter the month today: \"))\n",
        "today_day = int(input(\"Enter the day today: \"))\n",
        "today = datetime.datetime(today_year, today_month, today_day)\n",
        "\n",
        "birthdate_year = int(input(\"Enter your birth year: \"))\n",
        "birthdate_month = int(input(\"Enter your birth month: \"))\n",
        "birthdate_day = int(input(\"Enter your birthdate day: \"))\n",
        "birthdate = datetime.datetime(birthdate_year, birthdate_month, birthdate_day)\n",
        "\n",
        "age = today.year - birthdate.year - ((today.month, today.day) < (birthdate.month, birthdate.day)) \n",
        "print(\"You are \" + str(age) + \" years old\")"
      ],
      "execution_count": null,
      "outputs": [
        {
          "output_type": "stream",
          "text": [
            "Enter the year today: 2020\n",
            "Enter the month today: 8\n",
            "Enter the day today: 23\n",
            "Enter your birth year: 1999\n",
            "Enter your birth month: 03\n",
            "Enter your birthdate day: 13\n",
            "You are 21 years old\n"
          ],
          "name": "stdout"
        }
      ]
    }
  ]
}