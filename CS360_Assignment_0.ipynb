{
  "nbformat": 4,
  "nbformat_minor": 0,
  "metadata": {
    "colab": {
      "name": "CS360-Assignment-0.ipynb",
      "provenance": [],
      "authorship_tag": "ABX9TyPsVhPCQqZuBq4Pxd1Prj9a",
      "include_colab_link": true
    },
    "kernelspec": {
      "name": "python3",
      "display_name": "Python 3"
    }
  },
  "cells": [
    {
      "cell_type": "markdown",
      "metadata": {
        "id": "view-in-github",
        "colab_type": "text"
      },
      "source": [
        "<a href=\"https://colab.research.google.com/github/ayush1399/CS360-Machine-Learning/blob/master/CS360_Assignment_0.ipynb\" target=\"_parent\"><img src=\"https://colab.research.google.com/assets/colab-badge.svg\" alt=\"Open In Colab\"/></a>"
      ]
    },
    {
      "cell_type": "markdown",
      "metadata": {
        "id": "rZS0PC4fFuJA",
        "colab_type": "text"
      },
      "source": [
        "1. Write a Python program to get the Python version you are using."
      ]
    },
    {
      "cell_type": "code",
      "metadata": {
        "id": "4sdubHjiFWUu",
        "colab_type": "code",
        "colab": {
          "base_uri": "https://localhost:8080/",
          "height": 68
        },
        "outputId": "00318113-d5ff-4e7d-9467-9b7d67f791d2"
      },
      "source": [
        "import sys\n",
        "print(\"Python Version\")\n",
        "print (sys.version)"
      ],
      "execution_count": 1,
      "outputs": [
        {
          "output_type": "stream",
          "text": [
            "Python Version\n",
            "3.6.9 (default, Jul 17 2020, 12:50:27) \n",
            "[GCC 8.4.0]\n"
          ],
          "name": "stdout"
        }
      ]
    },
    {
      "cell_type": "markdown",
      "metadata": {
        "id": "24Bx21KsFuSX",
        "colab_type": "text"
      },
      "source": [
        "2. Write a Python program to locate Python site-packages."
      ]
    },
    {
      "cell_type": "code",
      "metadata": {
        "id": "kVbtIo6fFnB7",
        "colab_type": "code",
        "colab": {
          "base_uri": "https://localhost:8080/",
          "height": 85
        },
        "outputId": "f14b5e6d-63af-4634-f525-de3666b0b7f1"
      },
      "source": [
        "import site\n",
        "packages = site.getsitepackages()\n",
        "\n",
        "[print(package) for package in packages]\n",
        "print(\"Number of packages: \" + str(len(packages)))"
      ],
      "execution_count": 2,
      "outputs": [
        {
          "output_type": "stream",
          "text": [
            "/usr/local/lib/python3.6/dist-packages\n",
            "/usr/lib/python3/dist-packages\n",
            "/usr/lib/python3.6/dist-packages\n",
            "Number of packages: 3\n"
          ],
          "name": "stdout"
        }
      ]
    },
    {
      "cell_type": "markdown",
      "metadata": {
        "id": "uHkX9Y6FFubQ",
        "colab_type": "text"
      },
      "source": [
        "3. Write a python program to get the path and name of the file that is currently executing."
      ]
    },
    {
      "cell_type": "code",
      "metadata": {
        "id": "4k8MWzt8GEGY",
        "colab_type": "code",
        "colab": {
          "base_uri": "https://localhost:8080/",
          "height": 214
        },
        "outputId": "79e7d0d9-e35c-43c9-b0e7-e3bfeacfa687"
      },
      "source": [
        "import os\n",
        "print(\"Current File Name : \" + os.path.realpath(__file__))\n",
        "\n",
        "# Not applicable for IPython Jupyter Notebook environments"
      ],
      "execution_count": 3,
      "outputs": [
        {
          "output_type": "error",
          "ename": "NameError",
          "evalue": "ignored",
          "traceback": [
            "\u001b[0;31m---------------------------------------------------------------------------\u001b[0m",
            "\u001b[0;31mNameError\u001b[0m                                 Traceback (most recent call last)",
            "\u001b[0;32m<ipython-input-3-192ef74669d0>\u001b[0m in \u001b[0;36m<module>\u001b[0;34m()\u001b[0m\n\u001b[1;32m      1\u001b[0m \u001b[0;32mimport\u001b[0m \u001b[0mos\u001b[0m\u001b[0;34m\u001b[0m\u001b[0;34m\u001b[0m\u001b[0m\n\u001b[0;32m----> 2\u001b[0;31m \u001b[0mprint\u001b[0m\u001b[0;34m(\u001b[0m\u001b[0;34m\"Current File Name : \"\u001b[0m \u001b[0;34m+\u001b[0m \u001b[0mos\u001b[0m\u001b[0;34m.\u001b[0m\u001b[0mpath\u001b[0m\u001b[0;34m.\u001b[0m\u001b[0mrealpath\u001b[0m\u001b[0;34m(\u001b[0m\u001b[0m__file__\u001b[0m\u001b[0;34m)\u001b[0m\u001b[0;34m)\u001b[0m\u001b[0;34m\u001b[0m\u001b[0;34m\u001b[0m\u001b[0m\n\u001b[0m\u001b[1;32m      3\u001b[0m \u001b[0;34m\u001b[0m\u001b[0m\n\u001b[1;32m      4\u001b[0m \u001b[0;31m# Not applicable for IPython Jupyter Notebook environments\u001b[0m\u001b[0;34m\u001b[0m\u001b[0;34m\u001b[0m\u001b[0;34m\u001b[0m\u001b[0m\n",
            "\u001b[0;31mNameError\u001b[0m: name '__file__' is not defined"
          ]
        }
      ]
    },
    {
      "cell_type": "markdown",
      "metadata": {
        "id": "u5ua5UieFul0",
        "colab_type": "text"
      },
      "source": [
        "4. Write a python program to randomly generate two matrices of size [2x3 and 3x3] and do the matrix multiplication using the two generated matrices. ) (Say A = BC)"
      ]
    },
    {
      "cell_type": "code",
      "metadata": {
        "id": "nmwnlPjzGa9k",
        "colab_type": "code",
        "colab": {
          "base_uri": "https://localhost:8080/",
          "height": 238
        },
        "outputId": "adc804c4-4183-4552-be75-ec629a8ab4fa"
      },
      "source": [
        "import numpy as np\n",
        "\n",
        "B = np.random.randint(0, high=100, size=(2, 3))\n",
        "print(\"Matrix B: \")\n",
        "print(B)\n",
        "print()\n",
        "\n",
        "C = np.random.randint(0, high=100, size=(3, 3))\n",
        "print(\"Matrix C: \")\n",
        "print(C)\n",
        "print()\n",
        "\n",
        "A = np.dot(B, C)\n",
        "print(\"Matrix A = BC\")\n",
        "print(A)\n",
        "print()"
      ],
      "execution_count": 4,
      "outputs": [
        {
          "output_type": "stream",
          "text": [
            "Matrix B: \n",
            "[[35 17 30]\n",
            " [85 27 89]]\n",
            "\n",
            "Matrix C: \n",
            "[[83  2 95]\n",
            " [44 72 96]\n",
            " [80 32 39]]\n",
            "\n",
            "Matrix A = BC\n",
            "[[ 6053  2254  6127]\n",
            " [15363  4962 14138]]\n",
            "\n"
          ],
          "name": "stdout"
        }
      ]
    },
    {
      "cell_type": "markdown",
      "metadata": {
        "id": "gLHn4mtLFuuw",
        "colab_type": "text"
      },
      "source": [
        "5. Use a for loop to implement the above question five times and thereafter take the average of all the five matrices and display the result."
      ]
    },
    {
      "cell_type": "code",
      "metadata": {
        "id": "zbUN_OIMGrxs",
        "colab_type": "code",
        "colab": {}
      },
      "source": [
        "A = list()\n",
        "\n",
        "for i in range(5):\n",
        "  B = np.random.randint(0, high=100, size=(2, 3))\n",
        "  C = np.random.randint(0, high=100, size=(3, 3))\n",
        "  A.append(np.dot(B, C))\n",
        "\n",
        "A = np.mean(A, axis=0)"
      ],
      "execution_count": 5,
      "outputs": []
    },
    {
      "cell_type": "markdown",
      "metadata": {
        "id": "pcChZAChFu4W",
        "colab_type": "text"
      },
      "source": [
        "6. Write a program to transfer the matrix (generated in question 5) to the csv file and then read the same matrix and display the transposition of it."
      ]
    },
    {
      "cell_type": "code",
      "metadata": {
        "id": "U8z2ocqWFnEq",
        "colab_type": "code",
        "colab": {
          "base_uri": "https://localhost:8080/",
          "height": 68
        },
        "outputId": "a8514260-e78f-4b4b-b32a-cc9168c68053"
      },
      "source": [
        "np.savetxt(\"matrix.csv\", A, delimiter=',')\n",
        "A = np.loadtxt(\"matrix.csv\", delimiter=',')\n",
        "print(np.transpose(A))"
      ],
      "execution_count": 6,
      "outputs": [
        {
          "output_type": "stream",
          "text": [
            "[[ 6740.4  8196. ]\n",
            " [ 7093.4  8503.4]\n",
            " [ 8142.8 10288.8]]\n"
          ],
          "name": "stdout"
        }
      ]
    },
    {
      "cell_type": "markdown",
      "metadata": {
        "id": "CErXB_kuFwn3",
        "colab_type": "text"
      },
      "source": [
        "7. Write a program to find the mean, mode, and median of the above-mentioned matrix."
      ]
    },
    {
      "cell_type": "code",
      "metadata": {
        "id": "8D4T3n7vFnKb",
        "colab_type": "code",
        "colab": {
          "base_uri": "https://localhost:8080/",
          "height": 68
        },
        "outputId": "6eb42eaa-e320-4c9a-b12a-193befb12c10"
      },
      "source": [
        "from scipy import stats\n",
        "\n",
        "mean = np.mean(A)\n",
        "median = np.median(A)\n",
        "mode = stats.mode(A, axis=None).mode[0]\n",
        "print(\"Mean: \" + str(mean))\n",
        "print(\"Median: \" + str(median))\n",
        "print(\"Mode: \" + str(mode))"
      ],
      "execution_count": 7,
      "outputs": [
        {
          "output_type": "stream",
          "text": [
            "Mean: 8160.8\n",
            "Median: 8169.4\n",
            "Mode: 6740.4\n"
          ],
          "name": "stdout"
        }
      ]
    },
    {
      "cell_type": "markdown",
      "metadata": {
        "id": "7qb9Nsa7Fw1-",
        "colab_type": "text"
      },
      "source": [
        "8. Write a program to print the upper triangle of the matrix."
      ]
    },
    {
      "cell_type": "code",
      "metadata": {
        "id": "pyH6lveiFnJT",
        "colab_type": "code",
        "colab": {
          "base_uri": "https://localhost:8080/",
          "height": 51
        },
        "outputId": "3fb1ce63-4e69-461e-ba0d-536f71d6d038"
      },
      "source": [
        "m, n = A.shape\n",
        "\n",
        "for i in range(m):\n",
        "  for j in range(i):\n",
        "    print(\"      \", end=\" \")\n",
        "  for j in range(n - i):\n",
        "    print(A[i][j + i], end=\" \")\n",
        "  print()"
      ],
      "execution_count": 8,
      "outputs": [
        {
          "output_type": "stream",
          "text": [
            "6740.4 7093.4 8142.8 \n",
            "       8503.4 10288.8 \n"
          ],
          "name": "stdout"
        }
      ]
    },
    {
      "cell_type": "markdown",
      "metadata": {
        "id": "BC4_42UHFwOD",
        "colab_type": "text"
      },
      "source": [
        "9. Write a Python program to read specific columns of a given CSV file and print the content of the columns. (Column number should be given by the user)"
      ]
    },
    {
      "cell_type": "code",
      "metadata": {
        "id": "aT9DcYxUHcdH",
        "colab_type": "code",
        "colab": {
          "base_uri": "https://localhost:8080/",
          "height": 68
        },
        "outputId": "0f565836-9759-4d2a-a548-2a20f4cdc90e"
      },
      "source": [
        "inp = input(\"Enter the column numbers you want to read: \")\n",
        "inp = inp.split(\" \")\n",
        "inp = [int(num) for num in inp]\n",
        "\n",
        "A = np.loadtxt(\"matrix.csv\", delimiter=',')\n",
        "print(A[:, inp])"
      ],
      "execution_count": 9,
      "outputs": [
        {
          "output_type": "stream",
          "text": [
            "Enter the column numbers you want to read: 0 2\n",
            "[[ 6740.4  8142.8]\n",
            " [ 8196.  10288.8]]\n"
          ],
          "name": "stdout"
        }
      ]
    },
    {
      "cell_type": "markdown",
      "metadata": {
        "id": "2D4xwcX1Hb8T",
        "colab_type": "text"
      },
      "source": [
        "\n",
        "\n",
        "10. Write a Python program to replace a user-defined number present in the CSV file by the character 'A'."
      ]
    },
    {
      "cell_type": "code",
      "metadata": {
        "id": "ptHSKBRnHtWY",
        "colab_type": "code",
        "colab": {
          "base_uri": "https://localhost:8080/",
          "height": 34
        },
        "outputId": "d1d934be-889b-4be9-ae2b-ea7f62a91cb4"
      },
      "source": [
        "import csv\n",
        "\n",
        "A = np.loadtxt(\"matrix.csv\", delimiter=',').tolist()\n",
        "num = float(input(\"Which number do you want to replace? \"))\n",
        "for i in range(len(A)):\n",
        "  for j in range(len(A[i])):\n",
        "    if A[i][j] == num:\n",
        "      A[i][j] = 'A'\n",
        "\n",
        "A = np.array(A)\n",
        "\n",
        "with open(\"matrix.csv\", \"w\", newline=\"\\n\") as f:\n",
        "    writer = csv.writer(f)\n",
        "    writer.writerows(A)"
      ],
      "execution_count": 10,
      "outputs": [
        {
          "output_type": "stream",
          "text": [
            "Which number do you want to replace? 8142.8\n"
          ],
          "name": "stdout"
        }
      ]
    }
  ]
}